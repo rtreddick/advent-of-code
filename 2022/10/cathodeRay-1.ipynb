{
 "cells": [
  {
   "cell_type": "code",
   "execution_count": 96,
   "metadata": {},
   "outputs": [],
   "source": [
    "from dataclasses import dataclass, field\n",
    "from typing import List, Tuple\n",
    "\n",
    "from pyprojroot import here\n",
    "\n",
    "\n",
    "\n",
    "@dataclass\n",
    "class CRT:\n",
    "    width: int\n",
    "    pixels: list = field(default_factory=list)\n",
    "\n",
    "    def draw(self, cycle, register):\n",
    "        spritePosition = (register - 1, register, register + 1)\n",
    "        column = (cycle - 1) % 40\n",
    "\n",
    "        if column in spritePosition:\n",
    "            self.pixels.append('#')\n",
    "        else:\n",
    "            self.pixels.append('.')\n",
    "\n",
    "        if column == 39:\n",
    "            self.pixels.append('\\n')\n",
    "\n",
    "    def printScreen(self):\n",
    "        return ''.join(self.pixels)\n",
    "\n",
    "\n",
    "@dataclass\n",
    "class CPU:\n",
    "    crt: CRT\n",
    "    register = 1\n",
    "    cycle = 0\n",
    "    signalStrengths: list = field(default_factory=list)\n",
    "\n",
    "    def execute(self, program):\n",
    "        for line in program:\n",
    "            if line == 'noop':\n",
    "                self.cycle +=1\n",
    "                self.signalStrengths.append(self.cycle * self.register)\n",
    "                self.crt.draw(self.cycle, self.register)\n",
    "\n",
    "            else:\n",
    "                for _ in range(2):\n",
    "                    self.cycle += 1\n",
    "                    self.signalStrengths.append(self.cycle * self.register)\n",
    "                    self.crt.draw(self.cycle, self.register)\n",
    "                \n",
    "                self.register += int(line.split(' ')[1])\n",
    "\n",
    "        return self.signalStrengths\n"
   ]
  },
  {
   "cell_type": "code",
   "execution_count": 98,
   "metadata": {},
   "outputs": [
    {
     "data": {
      "text/plain": [
       "13440"
      ]
     },
     "execution_count": 98,
     "metadata": {},
     "output_type": "execute_result"
    }
   ],
   "source": [
    "path = here('./10/input-1.txt')\n",
    "\n",
    "with open(path, 'r') as fp:\n",
    "    program = [line.strip() for line in fp.readlines()]\n",
    "\n",
    "# program = ['noop', 'addx 3', 'addx -5']\n",
    "\n",
    "cpu = CPU(CRT(40))\n",
    "history = cpu.execute(program)\n",
    "selected = [value for cycle, value in enumerate(history, 1) if (cycle - 20) % 40 == 0]\n",
    "\n",
    "sum(selected)"
   ]
  },
  {
   "cell_type": "code",
   "execution_count": 100,
   "metadata": {},
   "outputs": [
    {
     "name": "stdout",
     "output_type": "stream",
     "text": [
      "###..###..####..##..###...##..####..##..\n",
      "#..#.#..#....#.#..#.#..#.#..#....#.#..#.\n",
      "#..#.###....#..#....#..#.#..#...#..#..#.\n",
      "###..#..#..#...#.##.###..####..#...####.\n",
      "#....#..#.#....#..#.#.#..#..#.#....#..#.\n",
      "#....###..####..###.#..#.#..#.####.#..#.\n",
      "\n"
     ]
    }
   ],
   "source": [
    "print(cpu.crt.printScreen())\n",
    "# PBZGRAZA"
   ]
  }
 ],
 "metadata": {
  "kernelspec": {
   "display_name": "Python 3.9.13 ('vscode')",
   "language": "python",
   "name": "python3"
  },
  "language_info": {
   "codemirror_mode": {
    "name": "ipython",
    "version": 3
   },
   "file_extension": ".py",
   "mimetype": "text/x-python",
   "name": "python",
   "nbconvert_exporter": "python",
   "pygments_lexer": "ipython3",
   "version": "3.9.13"
  },
  "orig_nbformat": 4,
  "vscode": {
   "interpreter": {
    "hash": "9a7e77080e188257cc1a13b05fad48f882a01cda02e79cab0e7533d2fa726a6a"
   }
  }
 },
 "nbformat": 4,
 "nbformat_minor": 2
}
