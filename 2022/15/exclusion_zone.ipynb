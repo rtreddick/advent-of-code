{
 "cells": [
  {
   "cell_type": "code",
   "execution_count": 1,
   "metadata": {},
   "outputs": [],
   "source": [
    "from dataclasses import dataclass, field\n",
    "from itertools import chain\n",
    "import re\n",
    "\n",
    "from pyprojroot import here"
   ]
  },
  {
   "cell_type": "code",
   "execution_count": 3,
   "metadata": {},
   "outputs": [],
   "source": [
    "testPairs = [\n",
    "    \"Sensor at x=2, y=18: closest beacon is at x=-2, y=15\",\n",
    "    \"Sensor at x=9, y=16: closest beacon is at x=10, y=16\",\n",
    "    \"Sensor at x=13, y=2: closest beacon is at x=15, y=3\",\n",
    "    \"Sensor at x=12, y=14: closest beacon is at x=10, y=16\",\n",
    "    \"Sensor at x=10, y=20: closest beacon is at x=10, y=16\",\n",
    "    \"Sensor at x=14, y=17: closest beacon is at x=10, y=16\",\n",
    "    \"Sensor at x=8, y=7: closest beacon is at x=2, y=10\",\n",
    "    \"Sensor at x=2, y=0: closest beacon is at x=2, y=10\",\n",
    "    \"Sensor at x=0, y=11: closest beacon is at x=2, y=10\",\n",
    "    \"Sensor at x=20, y=14: closest beacon is at x=25, y=17\",\n",
    "    \"Sensor at x=17, y=20: closest beacon is at x=21, y=22\",\n",
    "    \"Sensor at x=16, y=7: closest beacon is at x=15, y=3\",\n",
    "    \"Sensor at x=14, y=3: closest beacon is at x=15, y=3\",\n",
    "    \"Sensor at x=20, y=1: closest beacon is at x=15, y=3\"\n",
    "]"
   ]
  },
  {
   "cell_type": "code",
   "execution_count": 3,
   "metadata": {},
   "outputs": [],
   "source": [
    "@dataclass\n",
    "class Pair:\n",
    "    sensorX: int\n",
    "    sensorY: int\n",
    "    beaconX: int\n",
    "    beaconY: int\n",
    "    distance: int = field(init=False)\n",
    "\n",
    "    def __post_init__(self):\n",
    "        self.distance = abs(self.beaconX - self.sensorX) + abs(self.beaconY - self.sensorY)\n",
    "\n",
    "\n",
    "def noBeaconCols(row: int, pair: Pair):\n",
    "    cols = set()\n",
    "    distanceToRow = abs(row - pair.sensorY)\n",
    "    remainingDistance = pair.distance - distanceToRow\n",
    "    \n",
    "    if remainingDistance >= 0:\n",
    "        for col in range(pair.sensorX - remainingDistance, pair.sensorX + remainingDistance):\n",
    "            cols.add(col)\n",
    "\n",
    "    return cols\n"
   ]
  },
  {
   "cell_type": "code",
   "execution_count": 6,
   "metadata": {},
   "outputs": [
    {
     "name": "stdout",
     "output_type": "stream",
     "text": [
      "5403291\n"
     ]
    }
   ],
   "source": [
    "path = here('./15/input.txt')\n",
    "with open(path, 'r') as fp:\n",
    "    pairs = [Pair(*[int(char) for char in re.findall('(\\d+)', line)]) for line in fp.readlines()]\n",
    "\n",
    "cols = set().union(*[noBeaconCols(2000000, pair) for pair in pairs])\n",
    "\n",
    "print(len(cols))"
   ]
  }
 ],
 "metadata": {
  "kernelspec": {
   "display_name": "vscode",
   "language": "python",
   "name": "python3"
  },
  "language_info": {
   "codemirror_mode": {
    "name": "ipython",
    "version": 3
   },
   "file_extension": ".py",
   "mimetype": "text/x-python",
   "name": "python",
   "nbconvert_exporter": "python",
   "pygments_lexer": "ipython3",
   "version": "3.9.13"
  },
  "orig_nbformat": 4,
  "vscode": {
   "interpreter": {
    "hash": "9a7e77080e188257cc1a13b05fad48f882a01cda02e79cab0e7533d2fa726a6a"
   }
  }
 },
 "nbformat": 4,
 "nbformat_minor": 2
}
