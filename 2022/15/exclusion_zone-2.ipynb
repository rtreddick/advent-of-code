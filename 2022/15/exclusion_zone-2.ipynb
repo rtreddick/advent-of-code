{
 "cells": [
  {
   "cell_type": "code",
   "execution_count": 44,
   "metadata": {},
   "outputs": [],
   "source": [
    "from dataclasses import dataclass, field\n",
    "from itertools import product\n",
    "import re\n",
    "from typing import List\n",
    "\n",
    "from pyprojroot import here"
   ]
  },
  {
   "cell_type": "code",
   "execution_count": 45,
   "metadata": {},
   "outputs": [],
   "source": [
    "@dataclass\n",
    "class Pair:\n",
    "    sensorX: int\n",
    "    sensorY: int\n",
    "    beaconX: int\n",
    "    beaconY: int\n",
    "    sensorRange: int = field(init=False)\n",
    "    \n",
    "    def __post_init__(self):\n",
    "        self.sensorRange = abs(self.beaconX - self.sensorX) + abs(self.beaconY - self.sensorY)"
   ]
  },
  {
   "cell_type": "code",
   "execution_count": 37,
   "metadata": {},
   "outputs": [],
   "source": [
    "path = here('./15/input.txt')\n",
    "with open(path, 'r') as fp:\n",
    "    pairs = [Pair(*[int(char) for char in re.findall('(-?\\d+)', line)]) for line in fp.readlines()]"
   ]
  },
  {
   "cell_type": "code",
   "execution_count": 46,
   "metadata": {},
   "outputs": [
    {
     "name": "stdout",
     "output_type": "stream",
     "text": [
      "(2572895, 2906626)\n",
      "10291582906626\n"
     ]
    }
   ],
   "source": [
    "def reach(row: int, pair: Pair):\n",
    "    return pair.sensorRange - abs(row - pair.sensorY)\n",
    "\n",
    "\n",
    "def findBeacon(pairs: List[Pair], colMax: int, rowMax: int, colMin=0, rowMin=0):\n",
    "    \n",
    "    for row in range(rowMin, rowMax):\n",
    "        spans = [(pair.sensorX - reach(row, pair), pair.sensorX + reach(row, pair)) for pair in pairs if reach(row, pair) >= 0]\n",
    "        spans.sort(key=lambda span: span[0])\n",
    "        currentRightReach = 0\n",
    "\n",
    "        for leftReach, rightReach in spans:\n",
    "            if leftReach > currentRightReach:\n",
    "                return (currentRightReach + 1, row)\n",
    "\n",
    "            if rightReach >= colMax:\n",
    "                break\n",
    "\n",
    "            currentRightReach = max(currentRightReach, rightReach)\n",
    "\n",
    "result = findBeacon(pairs, colMax=4000000, rowMax=4000000)\n",
    "tuning_frequency = result[0] * 4000000 + result[1] if result is not None else None\n",
    "\n",
    "print(result)\n",
    "print(tuning_frequency)"
   ]
  }
 ],
 "metadata": {
  "kernelspec": {
   "display_name": "vscode",
   "language": "python",
   "name": "python3"
  },
  "language_info": {
   "codemirror_mode": {
    "name": "ipython",
    "version": 3
   },
   "file_extension": ".py",
   "mimetype": "text/x-python",
   "name": "python",
   "nbconvert_exporter": "python",
   "pygments_lexer": "ipython3",
   "version": "3.9.13 | packaged by conda-forge | (main, May 27 2022, 17:00:52) \n[Clang 13.0.1 ]"
  },
  "orig_nbformat": 4,
  "vscode": {
   "interpreter": {
    "hash": "9a7e77080e188257cc1a13b05fad48f882a01cda02e79cab0e7533d2fa726a6a"
   }
  }
 },
 "nbformat": 4,
 "nbformat_minor": 2
}
