{
 "cells": [
  {
   "cell_type": "code",
   "execution_count": 2,
   "metadata": {},
   "outputs": [],
   "source": [
    "from collections import deque\n",
    "from dataclasses import dataclass, field\n",
    "from itertools import combinations, permutations\n",
    "import json\n",
    "from typing import Optional\n",
    "import re\n",
    "\n",
    "from pyprojroot import here"
   ]
  },
  {
   "cell_type": "code",
   "execution_count": 3,
   "metadata": {},
   "outputs": [],
   "source": [
    "@dataclass\n",
    "class Valve:\n",
    "    valveId: str\n",
    "    flowRate: int\n",
    "    childrenIds: list[str]"
   ]
  },
  {
   "cell_type": "code",
   "execution_count": 4,
   "metadata": {},
   "outputs": [],
   "source": [
    "def calcDistance(graph: dict[str, Valve], valve1: Valve, valve2: Valve) -> int:\n",
    "\n",
    "    @dataclass\n",
    "    class Node:\n",
    "        valve: Valve\n",
    "        distanceTraveled: int = 0\n",
    "        valvesVisited: set[str] = field(default_factory=set)\n",
    "\n",
    "    queue = deque([Node(valve1)])\n",
    "    while queue:\n",
    "        node = queue.popleft()\n",
    "\n",
    "        # valve1 and valve 2 are the same\n",
    "        if node.valve.valveId == valve2.valveId:\n",
    "            return 0\n",
    "\n",
    "        # cycled\n",
    "        if node.valve.valveId in node.valvesVisited:\n",
    "            continue\n",
    "\n",
    "        # directly connected\n",
    "        if valve2.valveId in node.valve.childrenIds:\n",
    "            return node.distanceTraveled + 1\n",
    "\n",
    "        # indirectly connected\n",
    "        for child in node.valve.childrenIds:\n",
    "            childNode = Node(\n",
    "                valve = graph[child],\n",
    "                distanceTraveled = node.distanceTraveled + 1,\n",
    "                valvesVisited = node.valvesVisited.union([node.valve.valveId])\n",
    "            )\n",
    "            queue.append(childNode)\n",
    "\n",
    "    return -1\n",
    "\n",
    "\n",
    "def calcDistances(graph: dict[str, Valve]) -> dict[str, dict[str, int]]:\n",
    "    distances = {}\n",
    "\n",
    "    for valve1 in graph.values():\n",
    "        for valve2 in graph.values():\n",
    "            distances.setdefault(valve1.valveId, {})[valve2.valveId] = calcDistance(graph, valve1, valve2)\n",
    "\n",
    "    return distances"
   ]
  },
  {
   "cell_type": "code",
   "execution_count": 5,
   "metadata": {},
   "outputs": [],
   "source": [
    "def releaseMaxPressure(\n",
    "    targetGraph: dict[str, Valve],\n",
    "    distances: dict[str, dict[str, int]],\n",
    "    minutesAllowed: int,\n",
    "    startingValveId: str\n",
    "    ) -> int:\n",
    "    \n",
    "    @dataclass\n",
    "    class Node:\n",
    "        destValve: Valve\n",
    "        destDist: int\n",
    "        remainingValveIds: set[str]\n",
    "        flowRate: int = 0\n",
    "        pressureReleased: int = 0\n",
    "        currentMinute: int = 1\n",
    "    \n",
    "    maxPressureReleased = 0\n",
    "    remainingValveIds = set([valve.valveId for valve in targetGraph.values()])\n",
    "    stack = [Node(valve, distances[startingValveId][valveId], remainingValveIds) for valveId, valve in targetGraph.items()]\n",
    "\n",
    "    while stack:\n",
    "        node = stack.pop()\n",
    "\n",
    "        # time is up\n",
    "        if node.currentMinute == minutesAllowed + 1:\n",
    "            maxPressureReleased = max(maxPressureReleased, node.pressureReleased)\n",
    "            continue\n",
    "\n",
    "        # release pressure\n",
    "        node.pressureReleased += node.flowRate\n",
    "        node.currentMinute += 1\n",
    "\n",
    "        # continue traveling\n",
    "        if node.destDist > 0:\n",
    "            node.destDist -= 1\n",
    "            stack.append(node)\n",
    "\n",
    "        # open destination valve\n",
    "        else:\n",
    "            node.flowRate += node.destValve.flowRate\n",
    "            remainingValveIds = node.remainingValveIds - set([node.destValve.valveId])\n",
    "\n",
    "            for valve in [targetGraph[valveId] for valveId in remainingValveIds]:\n",
    "                child = Node(\n",
    "                    destValve = valve,\n",
    "                    destDist = distances[node.destValve.valveId][valve.valveId],\n",
    "                    remainingValveIds = remainingValveIds,\n",
    "                    flowRate = node.flowRate,\n",
    "                    pressureReleased = node.pressureReleased,\n",
    "                    currentMinute = node.currentMinute,\n",
    "                )\n",
    "                stack.append(child)\n",
    "\n",
    "    return maxPressureReleased"
   ]
  },
  {
   "cell_type": "code",
   "execution_count": 6,
   "metadata": {},
   "outputs": [
    {
     "name": "stdout",
     "output_type": "stream",
     "text": [
      "1737\n"
     ]
    }
   ],
   "source": [
    "path = here('./16/input.txt')\n",
    "with open(path, 'r') as fp:\n",
    "    lines = fp.readlines()\n",
    "\n",
    "data = [(*re.findall('([A-Z]{2}|\\d+)(?!,|$)', line), re.findall('([A-Z]{2})(?=,|$)', line)) for line in lines]\n",
    "valvesGraph = {valveId: Valve(valveId, int(flowRate), childrenIds) for valveId, flowRate, childrenIds in data}\n",
    "distances = calcDistances(valvesGraph)\n",
    "startingValveId = 'AA'\n",
    "targetGraph = {valveId: valve for valveId, valve in valvesGraph.items() if valve.flowRate > 0}\n",
    "\n",
    "result = releaseMaxPressure(targetGraph, distances, 30, startingValveId)\n",
    "print(result)"
   ]
  }
 ],
 "metadata": {
  "kernelspec": {
   "display_name": "vscode",
   "language": "python",
   "name": "python3"
  },
  "language_info": {
   "codemirror_mode": {
    "name": "ipython",
    "version": 3
   },
   "file_extension": ".py",
   "mimetype": "text/x-python",
   "name": "python",
   "nbconvert_exporter": "python",
   "pygments_lexer": "ipython3",
   "version": "3.9.13"
  },
  "orig_nbformat": 4,
  "vscode": {
   "interpreter": {
    "hash": "9a7e77080e188257cc1a13b05fad48f882a01cda02e79cab0e7533d2fa726a6a"
   }
  }
 },
 "nbformat": 4,
 "nbformat_minor": 2
}
