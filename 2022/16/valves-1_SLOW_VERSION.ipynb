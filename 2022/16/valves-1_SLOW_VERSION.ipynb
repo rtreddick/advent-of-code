{
 "cells": [
  {
   "cell_type": "code",
   "execution_count": 3,
   "metadata": {},
   "outputs": [],
   "source": [
    "from dataclasses import dataclass, field\n",
    "import re\n",
    "\n",
    "from pyprojroot import here"
   ]
  },
  {
   "cell_type": "code",
   "execution_count": 4,
   "metadata": {},
   "outputs": [],
   "source": [
    "testInput = [\n",
    "    'Valve AA has flow rate=0; tunnels lead to valves DD, II, BB',\n",
    "    'Valve BB has flow rate=13; tunnels lead to valves CC, AA',\n",
    "    'Valve CC has flow rate=2; tunnels lead to valves DD, BB,',\n",
    "    'Valve DD has flow rate=20; tunnels lead to valves CC, AA, EE',\n",
    "    'Valve EE has flow rate=3; tunnels lead to valves FF, DD',\n",
    "    'Valve FF has flow rate=0; tunnels lead to valves EE, GG',\n",
    "    'Valve GG has flow rate=0; tunnels lead to valves FF, HH',\n",
    "    'Valve HH has flow rate=22; tunnel leads to valve GG',\n",
    "    'Valve II has flow rate=0; tunnels lead to valves AA, JJ',\n",
    "    'Valve JJ has flow rate=21; tunnel leads to valve II'\n",
    "]"
   ]
  },
  {
   "cell_type": "code",
   "execution_count": 5,
   "metadata": {},
   "outputs": [],
   "source": [
    "@dataclass\n",
    "class Valve:\n",
    "    valveId: str\n",
    "    flowRate: int\n",
    "    children: list[str]\n",
    "\n",
    "\n",
    "@dataclass\n",
    "class Node:\n",
    "    valve: Valve\n",
    "    flowRate: int = 0\n",
    "    pressureReleased: int = 0\n",
    "    currentMinute: int = 1\n",
    "    openedValves: set[str] = field(default_factory=set)\n",
    "    valvesVisitedThisCycle: set[str] = field(default_factory=set)\n",
    "    valveOpenedThisCycle: bool = False"
   ]
  },
  {
   "cell_type": "code",
   "execution_count": 6,
   "metadata": {},
   "outputs": [],
   "source": [
    "def releaseMaxPressure(valves: dict[str, Valve], startingValve='AA', minutesAllowed=30):\n",
    "    numValvesToOpen = len([valve for valve in valves.values() if valve.flowRate > 0])\n",
    "    maxPressureReleased = 0\n",
    "    pathsExplored = 0\n",
    "    nodesVisited = 0\n",
    "    stack = [Node(valves[startingValve])]\n",
    "\n",
    "    while stack:\n",
    "        node = stack.pop()\n",
    "        nodesVisited += 1\n",
    "\n",
    "        # time is up\n",
    "        if node.currentMinute == minutesAllowed + 1:\n",
    "            pathsExplored += 1\n",
    "            continue\n",
    "\n",
    "        # completed a cycle\n",
    "        if node.valve.valveId in node.valvesVisitedThisCycle:\n",
    "\n",
    "            # don't continue continue down this path\n",
    "            if not node.valveOpenedThisCycle:\n",
    "                continue\n",
    "\n",
    "            # continue down this path\n",
    "            else:\n",
    "                node.valvesVisitedThisCycle = set()\n",
    "                node.valveOpenedThisCycle = False\n",
    "\n",
    "        # opened all valves\n",
    "        if len(node.openedValves) == numValvesToOpen:\n",
    "            pressureReleased = node.pressureReleased + (minutesAllowed - node.currentMinute) * node.flowRate\n",
    "            maxPressureReleased = max(maxPressureReleased, pressureReleased)\n",
    "            continue\n",
    "\n",
    "        # pressure released during current minute\n",
    "        node.pressureReleased += node.flowRate\n",
    "        maxPressureReleased = max(maxPressureReleased, node.pressureReleased)\n",
    "\n",
    "        # branch where we open valve during current minute\n",
    "        if node.valve.flowRate > 0 and node.valve.valveId not in node.openedValves:\n",
    "            openNode = Node(\n",
    "                valve = node.valve,\n",
    "                flowRate = node.flowRate + node.valve.flowRate,\n",
    "                pressureReleased = node.pressureReleased,\n",
    "                currentMinute = node.currentMinute + 1,\n",
    "                openedValves = node.openedValves.union([node.valve.valveId]),\n",
    "                valvesVisitedThisCycle = node.valvesVisitedThisCycle.union([node.valve.valveId]),\n",
    "                valveOpenedThisCycle = True\n",
    "            )\n",
    "            stack.append(openNode)\n",
    "\n",
    "        # branches where we travel to another valve during current minute\n",
    "        for child in node.valve.children:\n",
    "            childNode = Node(\n",
    "                valve = valves[child],\n",
    "                flowRate = node.flowRate,\n",
    "                pressureReleased = node.pressureReleased,\n",
    "                currentMinute = node.currentMinute + 1,\n",
    "                openedValves = node.openedValves,\n",
    "                valvesVisitedThisCycle = node.valvesVisitedThisCycle.union([node.valve.valveId]),\n",
    "                valveOpenedThisCycle = node.valveOpenedThisCycle\n",
    "            )\n",
    "            stack.append(childNode)\n",
    "\n",
    "    return nodesVisited, pathsExplored, maxPressureReleased"
   ]
  },
  {
   "cell_type": "code",
   "execution_count": 8,
   "metadata": {},
   "outputs": [
    {
     "data": {
      "text/plain": [
       "(268028111, 111691104, 1737)"
      ]
     },
     "execution_count": 8,
     "metadata": {},
     "output_type": "execute_result"
    }
   ],
   "source": [
    "path = here('./16/input.txt')\n",
    "\n",
    "with open(path, 'r') as fp:\n",
    "    lines = fp.readlines()\n",
    "    # lines = testInput\n",
    "    data = [(*re.findall('([A-Z]{2}|\\d+)(?!,|$)', line), re.findall('([A-Z]{2})(?=,|$)', line)) for line in lines]\n",
    "    valves = {id: Valve(id, int(rate), children) for id, rate, children in data}\n",
    "\n",
    "# (268028111, 111691104, 1737) # it worked but took 15m 12.4s\n",
    "releaseMaxPressure(valves, minutesAllowed=30)"
   ]
  }
 ],
 "metadata": {
  "kernelspec": {
   "display_name": "vscode",
   "language": "python",
   "name": "python3"
  },
  "language_info": {
   "name": "python",
   "version": "3.9.13 | packaged by conda-forge | (main, May 27 2022, 17:00:52) \n[Clang 13.0.1 ]"
  },
  "orig_nbformat": 4,
  "vscode": {
   "interpreter": {
    "hash": "9a7e77080e188257cc1a13b05fad48f882a01cda02e79cab0e7533d2fa726a6a"
   }
  }
 },
 "nbformat": 4,
 "nbformat_minor": 2
}
