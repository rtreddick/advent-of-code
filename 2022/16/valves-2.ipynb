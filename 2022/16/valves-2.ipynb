{
 "cells": [
  {
   "cell_type": "code",
   "execution_count": 1,
   "metadata": {},
   "outputs": [],
   "source": [
    "from collections import deque\n",
    "from dataclasses import dataclass, field\n",
    "from itertools import combinations, permutations\n",
    "import json\n",
    "from typing import Optional\n",
    "import re\n",
    "\n",
    "from pyprojroot import here"
   ]
  },
  {
   "cell_type": "code",
   "execution_count": 2,
   "metadata": {},
   "outputs": [],
   "source": [
    "testInput = [\n",
    "    'Valve AA has flow rate=0; tunnels lead to valves DD, II, BB',\n",
    "    'Valve BB has flow rate=13; tunnels lead to valves CC, AA',\n",
    "    'Valve CC has flow rate=2; tunnels lead to valves DD, BB,',\n",
    "    'Valve DD has flow rate=20; tunnels lead to valves CC, AA, EE',\n",
    "    'Valve EE has flow rate=3; tunnels lead to valves FF, DD',\n",
    "    'Valve FF has flow rate=0; tunnels lead to valves EE, GG',\n",
    "    'Valve GG has flow rate=0; tunnels lead to valves FF, HH',\n",
    "    'Valve HH has flow rate=22; tunnel leads to valve GG',\n",
    "    'Valve II has flow rate=0; tunnels lead to valves AA, JJ',\n",
    "    'Valve JJ has flow rate=21; tunnel leads to valve II'\n",
    "]"
   ]
  },
  {
   "cell_type": "code",
   "execution_count": 3,
   "metadata": {},
   "outputs": [
    {
     "data": {
      "text/plain": [
       "2106"
      ]
     },
     "execution_count": 3,
     "metadata": {},
     "output_type": "execute_result"
    }
   ],
   "source": [
    "(13 + 2 + 20 + 3 + 22 + 21) * 26"
   ]
  },
  {
   "cell_type": "code",
   "execution_count": 4,
   "metadata": {},
   "outputs": [],
   "source": [
    "@dataclass\n",
    "class Valve:\n",
    "    valveId: str\n",
    "    flowRate: int\n",
    "    childrenIds: list[str]"
   ]
  },
  {
   "cell_type": "code",
   "execution_count": 5,
   "metadata": {},
   "outputs": [],
   "source": [
    "def calcDistance(graph: dict[str, Valve], valve1: Valve, valve2: Valve) -> int:\n",
    "\n",
    "    @dataclass\n",
    "    class Node:\n",
    "        valve: Valve\n",
    "        distanceTraveled: int = 0\n",
    "        valvesVisited: set[str] = field(default_factory=set)\n",
    "\n",
    "    queue = deque([Node(valve1)])\n",
    "    while queue:\n",
    "        node = queue.popleft()\n",
    "\n",
    "        # valve1 and valve 2 are the same\n",
    "        if node.valve.valveId == valve2.valveId:\n",
    "            return 0\n",
    "\n",
    "        # cycled\n",
    "        if node.valve.valveId in node.valvesVisited:\n",
    "            continue\n",
    "\n",
    "        # directly connected\n",
    "        if valve2.valveId in node.valve.childrenIds:\n",
    "            return node.distanceTraveled + 1\n",
    "\n",
    "        # indirectly connected\n",
    "        for child in node.valve.childrenIds:\n",
    "            childNode = Node(\n",
    "                valve = graph[child],\n",
    "                distanceTraveled = node.distanceTraveled + 1,\n",
    "                valvesVisited = node.valvesVisited.union([node.valve.valveId])\n",
    "            )\n",
    "            queue.append(childNode)\n",
    "\n",
    "    return -1\n",
    "\n",
    "\n",
    "def calcDistances(graph: dict[str, Valve]) -> dict[str, dict[str, int]]:\n",
    "    distances = {}\n",
    "\n",
    "    for valve1 in graph.values():\n",
    "        for valve2 in graph.values():\n",
    "            distances.setdefault(valve1.valveId, {})[valve2.valveId] = calcDistance(graph, valve1, valve2)\n",
    "\n",
    "    return distances"
   ]
  },
  {
   "cell_type": "code",
   "execution_count": 6,
   "metadata": {},
   "outputs": [],
   "source": [
    "@dataclass\n",
    "class Node:\n",
    "    destValveA: Valve\n",
    "    destValveB: Valve\n",
    "    destDistA: int\n",
    "    destDistB: int\n",
    "    remainingValveIds: set[str]\n",
    "    flowRate: int = 0\n",
    "    pressureReleased: int = 0\n",
    "    currentMinute: int = 1\n",
    "\n",
    "\n",
    "def releaseMaxPressure(\n",
    "    graph: dict[str, Valve],\n",
    "    distances: dict[str, dict[str, int]],\n",
    "    minutesAllowed: int,\n",
    "    startingValveId: str\n",
    "    ) -> int:\n",
    "        \n",
    "    maxPressureReleased = 0\n",
    "    remainingValveIds = set([valve.valveId for valve in graph.values()])\n",
    "    valveIdCombos = combinations(remainingValveIds, 2)\n",
    "    stack: list[Node] = []\n",
    "\n",
    "    for valveIdA, valveIdB in valveIdCombos:\n",
    "        node = Node(\n",
    "            destValveA = graph[valveIdA],\n",
    "            destValveB = graph[valveIdB],\n",
    "            destDistA = distances[startingValveId][valveIdA],\n",
    "            destDistB = distances[startingValveId][valveIdB],\n",
    "            remainingValveIds = remainingValveIds\n",
    "        )\n",
    "        stack.append(node)\n",
    "\n",
    "    while stack:\n",
    "        node = stack.pop()\n",
    "        remainingValveIds = node.remainingValveIds - set([node.destValveA.valveId, node.destValveB.valveId])\n",
    "\n",
    "        # time is up\n",
    "        if node.currentMinute == minutesAllowed + 1:\n",
    "            maxPressureReleased = max(maxPressureReleased, node.pressureReleased)\n",
    "            continue\n",
    "\n",
    "        # release pressure\n",
    "        node.pressureReleased += node.flowRate\n",
    "        node.currentMinute += 1\n",
    "\n",
    "        # continue traveling A and continue traveling B\n",
    "        # continue traveling A and open valve B\n",
    "        # continue traveling B and open valve A\n",
    "        # continue traveling A and do nothing B\n",
    "        # continue traveling B and do nothing A\n",
    "        # open valve A and do nothing B\n",
    "        # open valve B and do nothing A\n",
    "\n",
    "    \n",
    "            \n",
    "    return maxPressureReleased"
   ]
  },
  {
   "cell_type": "code",
   "execution_count": 7,
   "metadata": {},
   "outputs": [],
   "source": [
    "path = here('./16/input.txt')\n",
    "with open(path, 'r') as fp:\n",
    "    lines = fp.readlines()\n",
    "    # lines = testInput\n",
    "\n",
    "data = [(*re.findall('([A-Z]{2}|\\d+)(?!,|$)', line), re.findall('([A-Z]{2})(?=,|$)', line)) for line in lines]\n",
    "valvesGraph = {valveId: Valve(valveId, int(flowRate), childrenIds) for valveId, flowRate, childrenIds in data}\n",
    "distances = calcDistances(valvesGraph)\n",
    "startingValveId = 'AA'\n",
    "targetGraph = {valveId: valve for valveId, valve in valvesGraph.items() if valve.flowRate > 0}\n",
    "\n",
    "# maxPressureReleased = releaseMaxPressure(targetGraph, distances, 26, startingValveId)\n",
    "# print(maxPressureReleased)"
   ]
  },
  {
   "cell_type": "code",
   "execution_count": 8,
   "metadata": {},
   "outputs": [
    {
     "data": {
      "text/plain": [
       "['EJ',\n",
       " 'VO',\n",
       " 'TE',\n",
       " 'UP',\n",
       " 'VR',\n",
       " 'SE',\n",
       " 'GL',\n",
       " 'AR',\n",
       " 'XN',\n",
       " 'OW',\n",
       " 'UM',\n",
       " 'JF',\n",
       " 'AH',\n",
       " 'HZ',\n",
       " 'TO']"
      ]
     },
     "execution_count": 8,
     "metadata": {},
     "output_type": "execute_result"
    }
   ],
   "source": [
    "[*targetGraph.keys()]"
   ]
  },
  {
   "cell_type": "code",
   "execution_count": 13,
   "metadata": {},
   "outputs": [
    {
     "data": {
      "text/plain": [
       "809"
      ]
     },
     "execution_count": 13,
     "metadata": {},
     "output_type": "execute_result"
    }
   ],
   "source": [
    "def validPermutations(\n",
    "    graph: dict[str, Valve],\n",
    "    distances: dict[str, dict[str, int]],\n",
    "    startingValveId = 'AA',\n",
    "    ):\n",
    "\n",
    "    @dataclass\n",
    "    class Node:\n",
    "        currentValveId: str\n",
    "        remainingValveIds: set[str]\n",
    "        timeRemaining: int\n",
    "\n",
    "\n",
    "    timeRemaining = 30\n",
    "    validPermutations = []\n",
    "    stack = [Node(valveId, set(list(graph.keys())) - set([valveId]), 30) for valveId in graph.keys()]\n",
    "\n",
    "    while stack:\n",
    "        path = stack.pop()\n",
    "        previousValveId = path[-2]\n",
    "        currentValveId = path[-1]\n",
    "        timeRemaining -= distances[previousValveId][currentValveId]\n",
    "        remainingValveIds = [valveId for valveId in graph.keys() if valveId not in path]\n",
    "\n",
    "        for nextValveId in remainingValveIds:\n",
    "            if distances[currentValveId][nextValveId] < timeRemaining:\n",
    "                stack.append(path + [nextValveId])\n",
    "            else:\n",
    "                validPermutations += 1\n",
    "\n",
    "    return validPermutations\n",
    "\n",
    "validPermutations(targetGraph, distances) \n",
    "    "
   ]
  }
 ],
 "metadata": {
  "kernelspec": {
   "display_name": "vscode",
   "language": "python",
   "name": "python3"
  },
  "language_info": {
   "codemirror_mode": {
    "name": "ipython",
    "version": 3
   },
   "file_extension": ".py",
   "mimetype": "text/x-python",
   "name": "python",
   "nbconvert_exporter": "python",
   "pygments_lexer": "ipython3",
   "version": "3.9.13"
  },
  "orig_nbformat": 4,
  "vscode": {
   "interpreter": {
    "hash": "9a7e77080e188257cc1a13b05fad48f882a01cda02e79cab0e7533d2fa726a6a"
   }
  }
 },
 "nbformat": 4,
 "nbformat_minor": 2
}
