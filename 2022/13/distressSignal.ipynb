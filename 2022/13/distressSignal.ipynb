{
 "cells": [
  {
   "cell_type": "code",
   "execution_count": 1,
   "metadata": {},
   "outputs": [],
   "source": [
    "from dataclasses import dataclass\n",
    "from itertools import zip_longest\n",
    "from typing import Tuple, List, Union, Optional\n",
    "\n",
    "from pyprojroot import here"
   ]
  },
  {
   "cell_type": "code",
   "execution_count": 2,
   "metadata": {},
   "outputs": [],
   "source": [
    "@dataclass\n",
    "class PairInfo:\n",
    "    inOrder: Optional[bool] = None\n",
    "\n",
    "\n",
    "def sortPackets(pairs, dividerPackets):\n",
    "    packets = [packet for pair in pairs for packet in pair]\n",
    "    packets.extend([*dividerPackets])\n",
    "    sorted = False\n",
    "\n",
    "    while not sorted:\n",
    "        sorted = True\n",
    "        for idx in range(1, len(packets)):\n",
    "            if not inOrder(packets[idx - 1], packets[idx]):\n",
    "                sorted = False\n",
    "                packets[idx - 1], packets[idx] = packets[idx], packets[idx - 1]\n",
    "\n",
    "    return packets\n",
    "\n",
    "\n",
    "def inOrderPairs(pairs):\n",
    "    return [idx for idx, pair in enumerate(pairs, 1) if inOrder(*pair)]\n",
    "\n",
    "\n",
    "def inOrder(left, right) -> Union[bool, None]:\n",
    "    pairInfo = PairInfo()\n",
    "    _inOrder(left, right, pairInfo)\n",
    "    \n",
    "    return pairInfo.inOrder\n",
    "    \n",
    "\n",
    "def _inOrder(left, right, pairInfo: PairInfo) -> Union[bool, None]:\n",
    "    left, right = iter(left), iter(right)\n",
    "    leftEmpty, rightEmpty = False, False\n",
    "\n",
    "    while not leftEmpty and not rightEmpty:\n",
    "        if pairInfo.inOrder is not None:\n",
    "            return\n",
    "\n",
    "        try:\n",
    "            leftElement = next(left)\n",
    "        except StopIteration:\n",
    "            leftEmpty = True\n",
    "\n",
    "        try:\n",
    "            rightElement = next(right)\n",
    "        except StopIteration:\n",
    "            rightEmpty = True\n",
    "\n",
    "        if leftEmpty and rightEmpty:\n",
    "            continue\n",
    "        \n",
    "        elif leftEmpty:\n",
    "            pairInfo.inOrder = True\n",
    "\n",
    "        elif rightEmpty:\n",
    "            pairInfo.inOrder = False\n",
    "\n",
    "        elif isinstance(leftElement, list) and isinstance(rightElement, list): # type: ignore\n",
    "            _inOrder(leftElement, rightElement, pairInfo)\n",
    "        \n",
    "        elif isinstance(leftElement, list): # type: ignore\n",
    "            _inOrder(leftElement, [rightElement], pairInfo) # type: ignore\n",
    "\n",
    "        elif isinstance(rightElement, list): # type: ignore\n",
    "            _inOrder([leftElement], rightElement, pairInfo) # type: ignore\n",
    "\n",
    "        elif leftElement < rightElement: # type: ignore\n",
    "            pairInfo.inOrder = True\n",
    "            \n",
    "        elif leftElement > rightElement: # type: ignore\n",
    "            pairInfo.inOrder = False"
   ]
  },
  {
   "cell_type": "code",
   "execution_count": 3,
   "metadata": {},
   "outputs": [],
   "source": [
    "path = here('./13/input.txt')\n",
    "with open(path, 'r') as fp:\n",
    "    lines = [line.strip() for line in fp.readlines() if line != '\\n']\n",
    "    pairs = []\n",
    "    pair = []\n",
    "\n",
    "    for line in lines:\n",
    "        pair.append(eval(line))\n",
    "        if len(pair) == 2:\n",
    "            pairs.append(tuple(pair))\n",
    "            pair = []\n",
    "\n",
    "    idxs = inOrderPairs(pairs)\n",
    "    divider1 = [[2]]\n",
    "    divider2 = [[6]]\n",
    "    sortedPackets = sortPackets(pairs, dividerPackets=(divider1, divider2))"
   ]
  },
  {
   "cell_type": "code",
   "execution_count": 4,
   "metadata": {},
   "outputs": [
    {
     "data": {
      "text/plain": [
       "5843"
      ]
     },
     "execution_count": 4,
     "metadata": {},
     "output_type": "execute_result"
    }
   ],
   "source": [
    "sum(idxs)"
   ]
  },
  {
   "cell_type": "code",
   "execution_count": 5,
   "metadata": {},
   "outputs": [
    {
     "name": "stdout",
     "output_type": "stream",
     "text": [
      "127\n",
      "207\n",
      "26289\n"
     ]
    }
   ],
   "source": [
    "idx1 = sortedPackets.index(divider1) + 1\n",
    "idx2 = sortedPackets.index(divider2) + 1\n",
    "\n",
    "print(idx1)\n",
    "print(idx2)\n",
    "print(idx1 * idx2)"
   ]
  }
 ],
 "metadata": {
  "kernelspec": {
   "display_name": "vscode",
   "language": "python",
   "name": "python3"
  },
  "language_info": {
   "codemirror_mode": {
    "name": "ipython",
    "version": 3
   },
   "file_extension": ".py",
   "mimetype": "text/x-python",
   "name": "python",
   "nbconvert_exporter": "python",
   "pygments_lexer": "ipython3",
   "version": "3.9.13 | packaged by conda-forge | (main, May 27 2022, 17:00:52) \n[Clang 13.0.1 ]"
  },
  "orig_nbformat": 4,
  "vscode": {
   "interpreter": {
    "hash": "9a7e77080e188257cc1a13b05fad48f882a01cda02e79cab0e7533d2fa726a6a"
   }
  }
 },
 "nbformat": 4,
 "nbformat_minor": 2
}
