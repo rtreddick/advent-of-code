{
 "cells": [
  {
   "cell_type": "code",
   "execution_count": 29,
   "metadata": {},
   "outputs": [],
   "source": [
    "from dataclasses import dataclass\n",
    "from typing import List\n",
    "\n",
    "from pyprojroot import here"
   ]
  },
  {
   "cell_type": "code",
   "execution_count": 109,
   "metadata": {},
   "outputs": [],
   "source": [
    "@dataclass\n",
    "class Tree:\n",
    "    height: int\n",
    "    idx: int\n",
    "\n",
    "def makeTreeMatrix(grid):\n",
    "    return [[Tree(col, colIdx) for colIdx, col in enumerate(row)] for row in grid]\n",
    "\n",
    "def transposed(matrix):\n",
    "    return [[matrix[row][col] for row in range(len(matrix))] for col in range(len(matrix[0]))]\n",
    "\n",
    "def flattened(matrix):\n",
    "    return [score for array in matrix for score in array]\n",
    "\n",
    "def scoreTree(tree: Tree, treeArray: List[Tree], increment: int) -> int:\n",
    "    nextIdx = tree.idx + increment\n",
    "    score = 0\n",
    "\n",
    "    while nextIdx > -1 and nextIdx < len(treeArray):\n",
    "        nextTree = treeArray[nextIdx]\n",
    "        score += 1\n",
    "        if tree.height > nextTree.height:\n",
    "            nextIdx += increment\n",
    "            continue\n",
    "        return score\n",
    "    return score\n",
    "\n",
    "def scoreArray(treeArray: List[Tree], increment: int) -> List[int]:\n",
    "    return [scoreTree(tree, treeArray, increment) for tree in treeArray]\n",
    "\n",
    "def scoreMatrix(treeMatrix: List[List[Tree]], increment: int) -> List[List[int]]:\n",
    "    return [scoreArray(treeArray, increment) for treeArray in treeMatrix]\n",
    "\n",
    "def maxScore(matrix):\n",
    "    treeRows = makeTreeMatrix(matrix)\n",
    "    treeCols = makeTreeMatrix(transposed(matrix))\n",
    "\n",
    "    scoresLeft = flattened(scoreMatrix(treeRows, -1))\n",
    "    scoresRight = flattened(scoreMatrix(treeRows, 1))\n",
    "    scoresUp = flattened(transposed(scoreMatrix(treeCols, -1)))\n",
    "    scoresDown = flattened(transposed(scoreMatrix(treeCols, 1)))\n",
    "    scores = [left * right * up * down for left, right, up, down in zip(scoresLeft, scoresRight, scoresUp, scoresDown)]\n",
    "    \n",
    "    return max(scores)"
   ]
  },
  {
   "cell_type": "code",
   "execution_count": 111,
   "metadata": {},
   "outputs": [
    {
     "data": {
      "text/plain": [
       "671160"
      ]
     },
     "execution_count": 111,
     "metadata": {},
     "output_type": "execute_result"
    }
   ],
   "source": [
    "grid = here('./08/input-1.txt')\n",
    "\n",
    "with open(grid, 'r') as grid:\n",
    "    grid = [line.strip() for line in grid.readlines()]\n",
    "\n",
    "maxScore(grid)\n"
   ]
  }
 ],
 "metadata": {
  "kernelspec": {
   "display_name": "Python 3.9.13 ('vscode')",
   "language": "python",
   "name": "python3"
  },
  "language_info": {
   "codemirror_mode": {
    "name": "ipython",
    "version": 3
   },
   "file_extension": ".py",
   "mimetype": "text/x-python",
   "name": "python",
   "nbconvert_exporter": "python",
   "pygments_lexer": "ipython3",
   "version": "3.9.13"
  },
  "orig_nbformat": 4,
  "vscode": {
   "interpreter": {
    "hash": "9a7e77080e188257cc1a13b05fad48f882a01cda02e79cab0e7533d2fa726a6a"
   }
  }
 },
 "nbformat": 4,
 "nbformat_minor": 2
}
