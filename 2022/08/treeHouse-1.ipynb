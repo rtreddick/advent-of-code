{
 "cells": [
  {
   "cell_type": "code",
   "execution_count": 15,
   "metadata": {},
   "outputs": [],
   "source": [
    "from dataclasses import dataclass\n",
    "\n",
    "from pyprojroot import here"
   ]
  },
  {
   "cell_type": "code",
   "execution_count": 52,
   "metadata": {},
   "outputs": [],
   "source": [
    "@dataclass\n",
    "class Tree:\n",
    "    height: int\n",
    "    maxLeft: int\n",
    "    maxUp: int\n",
    "    maxRight: int\n",
    "    maxDown: int\n",
    "    edge: bool = True\n",
    "    visible: bool = False\n",
    "\n",
    "\n",
    "def buildTreeGrid(grid):\n",
    "    length = len(grid)\n",
    "    width = len(grid[0])\n",
    "    treeGrid = [[Tree(*[grid[row][col]] * 5) for col in range(width)] for row in range(length)]\n",
    "\n",
    "    # top to bottom\n",
    "    for row in range(1, length - 1):\n",
    "\n",
    "        # left to right\n",
    "        for col in range(1, width - 1):\n",
    "            tree = treeGrid[row][col]\n",
    "            tree.edge = False\n",
    "\n",
    "            # maxUp\n",
    "            treeUp = treeGrid[row-1][col]\n",
    "            tree.maxUp = max(treeUp.maxUp, tree.height)\n",
    "            if tree.height > treeUp.maxUp:\n",
    "                tree.visible = True\n",
    "\n",
    "            # maxLeft\n",
    "            treeLeft = treeGrid[row][col-1]\n",
    "            tree.maxLeft = max(treeLeft.maxLeft, tree.height)\n",
    "            if tree.height > treeLeft.maxLeft:\n",
    "                tree.visible = True\n",
    "        \n",
    "        # right to left\n",
    "        for col in reversed(range(1, width - 1)):\n",
    "            tree = treeGrid[row][col]\n",
    "            tree.edge = False\n",
    "\n",
    "            # maxRight\n",
    "            treeRight = treeGrid[row][col+1]\n",
    "            tree.maxRight = max(treeRight.maxRight, tree.height)\n",
    "            if tree.height > treeRight.maxRight:\n",
    "                tree.visible = True\n",
    "\n",
    "    # bottom to top\n",
    "    for row in reversed(range(1, length - 1)):\n",
    "\n",
    "        # right to left (doesn't matter which direction)\n",
    "        for col in range(1, width - 1):\n",
    "            tree = treeGrid[row][col]\n",
    "            tree.edge = False\n",
    "\n",
    "            # max bottom\n",
    "            treeDown = treeGrid[row+1][col]\n",
    "            tree.maxDown = max(treeDown.maxDown, tree.height)\n",
    "            if tree.height > treeDown.maxDown:\n",
    "                tree.visible = True\n",
    "\n",
    "    for row in treeGrid:\n",
    "        for tree in row:\n",
    "            if tree.edge == True:\n",
    "                tree.visible = True\n",
    "\n",
    "    return treeGrid"
   ]
  },
  {
   "cell_type": "code",
   "execution_count": 56,
   "metadata": {},
   "outputs": [],
   "source": [
    "def countVisible(treeGrid):\n",
    "    return sum([tree.visible for row in [row for row in treeGrid] for tree in row])"
   ]
  },
  {
   "cell_type": "code",
   "execution_count": 57,
   "metadata": {},
   "outputs": [
    {
     "data": {
      "text/plain": [
       "1763"
      ]
     },
     "execution_count": 57,
     "metadata": {},
     "output_type": "execute_result"
    }
   ],
   "source": [
    "grid = here('./08/input-1.txt')\n",
    "\n",
    "with open(grid, 'r') as grid:\n",
    "    grid = [line.strip() for line in grid.readlines()]\n",
    "\n",
    "# grid = [\n",
    "#     '30373',\n",
    "#     '25512',\n",
    "#     '65332',\n",
    "#     '33549',\n",
    "#     '35390'\n",
    "# ]\n",
    "\n",
    "treeGrid = buildTreeGrid(grid)\n",
    "countVisible(treeGrid)"
   ]
  },
  {
   "cell_type": "code",
   "execution_count": null,
   "metadata": {},
   "outputs": [],
   "source": []
  }
 ],
 "metadata": {
  "kernelspec": {
   "display_name": "Python 3.9.13 ('vscode')",
   "language": "python",
   "name": "python3"
  },
  "language_info": {
   "codemirror_mode": {
    "name": "ipython",
    "version": 3
   },
   "file_extension": ".py",
   "mimetype": "text/x-python",
   "name": "python",
   "nbconvert_exporter": "python",
   "pygments_lexer": "ipython3",
   "version": "3.9.13"
  },
  "orig_nbformat": 4,
  "vscode": {
   "interpreter": {
    "hash": "9a7e77080e188257cc1a13b05fad48f882a01cda02e79cab0e7533d2fa726a6a"
   }
  }
 },
 "nbformat": 4,
 "nbformat_minor": 2
}
