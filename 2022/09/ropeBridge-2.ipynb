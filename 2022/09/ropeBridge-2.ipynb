{
 "cells": [
  {
   "cell_type": "code",
   "execution_count": 2,
   "metadata": {},
   "outputs": [],
   "source": [
    "from dataclasses import dataclass, field\n",
    "from math import copysign\n",
    "from typing import Dict, List, Tuple\n",
    "\n",
    "from pyprojroot import here"
   ]
  },
  {
   "cell_type": "code",
   "execution_count": 59,
   "metadata": {},
   "outputs": [],
   "source": [
    "@dataclass\n",
    "class HeadKnot:\n",
    "    x = 0\n",
    "    y = 0\n",
    "\n",
    "    def move(self, direction: str):\n",
    "        if direction == 'L':\n",
    "            self.x -= 1\n",
    "\n",
    "        elif direction == 'U':\n",
    "            self.y += 1\n",
    "\n",
    "        elif direction == 'R':\n",
    "            self.x += 1\n",
    "\n",
    "        elif direction == 'D':\n",
    "            self.y -= 1\n",
    "\n",
    "\n",
    "@dataclass\n",
    "class TailKnot(HeadKnot):\n",
    "    headKnot: HeadKnot\n",
    "\n",
    "    def move(self):\n",
    "        relativeX = self.headKnot.x - self.x\n",
    "        relativeY = self.headKnot.y - self.y\n",
    "        touching = abs(relativeX) < 2 and abs(relativeY) < 2\n",
    "\n",
    "        if not touching:\n",
    "            if abs(relativeX) > 0:\n",
    "                self.x += int(copysign(1, relativeX))\n",
    "                    \n",
    "            if abs(relativeY) > 0:\n",
    "                self.y += int(copysign(1, relativeY))\n",
    "\n",
    "\n",
    "@dataclass\n",
    "class Rope:\n",
    "    numKnots: int\n",
    "    headKnot: HeadKnot = field(init=False)\n",
    "    tailKnots: List[TailKnot] = field(init=False)\n",
    "    tailPositions: set = field(default_factory=set)\n",
    "\n",
    "    def __post_init__(self):\n",
    "        self.headKnot = HeadKnot()\n",
    "        self.tailKnots = []\n",
    "\n",
    "        headKnot = self.headKnot\n",
    "        for _ in range(self.numKnots - 1):\n",
    "            tailKnot = TailKnot(headKnot)\n",
    "            self.tailKnots.append(tailKnot)\n",
    "            headKnot = tailKnot\n",
    "\n",
    "        self.tailPositions.add((0,0))\n",
    "\n",
    "    def move(self, direction: str, numSteps: int):\n",
    "        for step in range(numSteps):\n",
    "            self.headKnot.move(direction)\n",
    "\n",
    "            for tailKnot in self.tailKnots:\n",
    "                tailKnot.move()\n",
    "            \n",
    "            self.tailPositions.add((tailKnot.x, tailKnot.y)) # type: ignore"
   ]
  },
  {
   "cell_type": "code",
   "execution_count": 60,
   "metadata": {},
   "outputs": [],
   "source": [
    "def ropeBridge(moves) -> int:\n",
    "    rope = Rope(10)\n",
    "    \n",
    "    for direction, numSteps in moves:\n",
    "        rope.move(direction, numSteps)\n",
    "    \n",
    "    return len(rope.tailPositions)"
   ]
  },
  {
   "cell_type": "code",
   "execution_count": 64,
   "metadata": {},
   "outputs": [
    {
     "data": {
      "text/plain": [
       "2303"
      ]
     },
     "execution_count": 64,
     "metadata": {},
     "output_type": "execute_result"
    }
   ],
   "source": [
    "path = here('./09/input-1.txt')\n",
    "with open(path) as fp:\n",
    "    moves = [(direction, int(steps)) for direction, steps in [tuple(line.strip().split(' ')) for line in fp.readlines()]]\n",
    "\n",
    "numTailPositions = ropeBridge(moves)\n",
    "numTailPositions"
   ]
  }
 ],
 "metadata": {
  "kernelspec": {
   "display_name": "Python 3.9.13 ('vscode')",
   "language": "python",
   "name": "python3"
  },
  "language_info": {
   "codemirror_mode": {
    "name": "ipython",
    "version": 3
   },
   "file_extension": ".py",
   "mimetype": "text/x-python",
   "name": "python",
   "nbconvert_exporter": "python",
   "pygments_lexer": "ipython3",
   "version": "3.9.13"
  },
  "orig_nbformat": 4,
  "vscode": {
   "interpreter": {
    "hash": "9a7e77080e188257cc1a13b05fad48f882a01cda02e79cab0e7533d2fa726a6a"
   }
  }
 },
 "nbformat": 4,
 "nbformat_minor": 2
}
