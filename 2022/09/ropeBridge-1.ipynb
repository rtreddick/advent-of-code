{
 "cells": [
  {
   "cell_type": "code",
   "execution_count": 44,
   "metadata": {},
   "outputs": [],
   "source": [
    "from dataclasses import dataclass, field\n",
    "from math import copysign\n",
    "\n",
    "from pyprojroot import here"
   ]
  },
  {
   "cell_type": "code",
   "execution_count": 65,
   "metadata": {},
   "outputs": [],
   "source": [
    "@dataclass\n",
    "class Knot:\n",
    "    x = 0\n",
    "    y = 0\n",
    "\n",
    "\n",
    "@dataclass\n",
    "class Rope:\n",
    "    head: Knot\n",
    "    tail: Knot\n",
    "    relativeX = 0\n",
    "    relativeY = 0\n",
    "    tailPositions: set = field(default_factory=set)\n",
    "\n",
    "    def __post_init__(self):\n",
    "        self.tailPositions.add((0,0))\n",
    "\n",
    "    def knotsTouching(self):\n",
    "        if abs(self.relativeX) < 2 and abs(self.relativeY) < 2:\n",
    "            return True\n",
    "        else:\n",
    "            return False\n",
    "\n",
    "    def takeOneTailStep(self):\n",
    "        if self.relativeX != 0:\n",
    "            self.tail.x += int(copysign(1, self.relativeX))\n",
    "            self.relativeX = self.head.x - self.tail.x\n",
    "                \n",
    "        if self.relativeY != 0:\n",
    "            self.tail.y += int(copysign(1, self.relativeY))\n",
    "            self.relativeY = self.head.y - self.tail.y\n",
    "\n",
    "    def takeOneStep(self, xAxis: bool, direction: int):\n",
    "        if xAxis:\n",
    "            self.head.x += direction\n",
    "            self.relativeX = self.head.x - self.tail.x\n",
    "        else:\n",
    "            self.head.y += direction\n",
    "            self.relativeY = self.head.y - self.tail.y\n",
    "\n",
    "        if not self.knotsTouching():\n",
    "            self.takeOneTailStep()\n",
    "            self.tailPositions.add((self.tail.x, self.tail.y))\n",
    "\n",
    "    def takeSteps(self, direction, numSteps):\n",
    "        if direction == 'L':\n",
    "            for _ in range(numSteps):\n",
    "                self.takeOneStep(True, -1)\n",
    "\n",
    "        if direction == 'U':\n",
    "            for _ in range(numSteps):\n",
    "                self.takeOneStep(False, 1)\n",
    "\n",
    "        if direction == 'R':\n",
    "            for _ in range(numSteps):\n",
    "                self.takeOneStep(True, 1)\n",
    "\n",
    "        if direction == 'D':\n",
    "            for _ in range(numSteps):\n",
    "                self.takeOneStep(False, -1)"
   ]
  },
  {
   "cell_type": "code",
   "execution_count": 66,
   "metadata": {},
   "outputs": [],
   "source": [
    "def ropeBridge(moves) -> int:\n",
    "    rope = Rope(Knot(), Knot())\n",
    "    for direction, numSteps in moves:\n",
    "        rope.takeSteps(direction, numSteps)\n",
    "\n",
    "    tailPositions = rope.tailPositions\n",
    "    return len(tailPositions)"
   ]
  },
  {
   "cell_type": "code",
   "execution_count": 71,
   "metadata": {},
   "outputs": [
    {
     "data": {
      "text/plain": [
       "5907"
      ]
     },
     "execution_count": 71,
     "metadata": {},
     "output_type": "execute_result"
    }
   ],
   "source": [
    "path = here('./09/input-1.txt')\n",
    "with open(path) as fp:\n",
    "    moves = [(direction, int(steps)) for direction, steps in [tuple(line.strip().split(' ')) for line in fp.readlines()]]\n",
    "    # print(moves)\n",
    "\n",
    "# moves = [\n",
    "#     ('R', 4),\n",
    "#     ('U', 4),\n",
    "#     ('L', 3),\n",
    "#     ('D', 1),\n",
    "#     ('R', 4),\n",
    "#     ('D', 1),\n",
    "#     ('L', 5),\n",
    "#     ('R', 2)\n",
    "# ]\n",
    "\n",
    "numTailPositions = ropeBridge(moves)\n",
    "numTailPositions"
   ]
  },
  {
   "cell_type": "code",
   "execution_count": null,
   "metadata": {},
   "outputs": [],
   "source": []
  }
 ],
 "metadata": {
  "kernelspec": {
   "display_name": "Python 3.9.13 ('vscode')",
   "language": "python",
   "name": "python3"
  },
  "language_info": {
   "codemirror_mode": {
    "name": "ipython",
    "version": 3
   },
   "file_extension": ".py",
   "mimetype": "text/x-python",
   "name": "python",
   "nbconvert_exporter": "python",
   "pygments_lexer": "ipython3",
   "version": "3.9.13"
  },
  "orig_nbformat": 4,
  "vscode": {
   "interpreter": {
    "hash": "9a7e77080e188257cc1a13b05fad48f882a01cda02e79cab0e7533d2fa726a6a"
   }
  }
 },
 "nbformat": 4,
 "nbformat_minor": 2
}
