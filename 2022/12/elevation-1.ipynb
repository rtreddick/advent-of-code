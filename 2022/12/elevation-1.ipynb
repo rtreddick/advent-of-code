{
 "cells": [
  {
   "cell_type": "code",
   "execution_count": 1,
   "metadata": {},
   "outputs": [],
   "source": [
    "from collections import deque\n",
    "from dataclasses import dataclass, field\n",
    "from itertools import product\n",
    "from typing import List, Tuple, Dict\n",
    "\n",
    "from pyprojroot import here"
   ]
  },
  {
   "cell_type": "code",
   "execution_count": 9,
   "metadata": {},
   "outputs": [],
   "source": [
    "@dataclass\n",
    "class Node:\n",
    "    coords: Tuple[int, int]\n",
    "    char: str\n",
    "    elevation: int = field(init=False)\n",
    "    minSteps = float('inf')\n",
    "\n",
    "    def __post_init__(self):\n",
    "        self.elevation = ord('z') if self.char == 'E' else ord('a') if self.char == 'S' else ord(self.char)\n",
    "\n",
    "\n",
    "def findStartCoords(reliefMap: List[str], row=0) -> Tuple[int, int]:\n",
    "    col = reliefMap[row].find('S')\n",
    "    return (col, row) if col != -1 else findStartCoords(reliefMap, row + 1)\n",
    "\n",
    "\n",
    "def shortestPath(reliefMap: List[str]) -> float:\n",
    "    grid = product(range(len(reliefMap[0])), range(len(reliefMap)))\n",
    "    nodes = {(col, row): Node((col, row), reliefMap[row][col]) for col, row in grid}\n",
    "    startNode = nodes[findStartCoords(reliefMap)]\n",
    "    stack: List[Tuple[Node, int]] = [(startNode, 0)]\n",
    "    minSteps = float('inf')\n",
    "\n",
    "    while stack:\n",
    "        node, numSteps = stack.pop()\n",
    "\n",
    "        if node.char == 'E':\n",
    "            minSteps = min(minSteps, numSteps)\n",
    "\n",
    "        if numSteps < node.minSteps:\n",
    "            node.minSteps = numSteps\n",
    "            x, y = node.coords\n",
    "            potentialChildren = [nodes.get(coords) for coords in [(x - 1, y), (x + 1, y), (x, y - 1), (x, y + 1)]]\n",
    "            children = [child for child in potentialChildren if child and child.elevation - node.elevation < 2]\n",
    "            stack.extend([(child, numSteps + 1) for child in children])\n",
    "\n",
    "    return minSteps"
   ]
  },
  {
   "cell_type": "code",
   "execution_count": 10,
   "metadata": {},
   "outputs": [
    {
     "name": "stdout",
     "output_type": "stream",
     "text": [
      "425\n"
     ]
    }
   ],
   "source": [
    "path = here('./12/input-1.txt')\n",
    "\n",
    "with open(path, 'r') as fp:\n",
    "    reliefMap = [line.strip() for line in fp.readlines()]\n",
    "    shortest = shortestPath(reliefMap)\n",
    "    \n",
    "    print(shortest)"
   ]
  }
 ],
 "metadata": {
  "kernelspec": {
   "display_name": "Python 3.9.13 ('vscode')",
   "language": "python",
   "name": "python3"
  },
  "language_info": {
   "codemirror_mode": {
    "name": "ipython",
    "version": 3
   },
   "file_extension": ".py",
   "mimetype": "text/x-python",
   "name": "python",
   "nbconvert_exporter": "python",
   "pygments_lexer": "ipython3",
   "version": "3.9.13 | packaged by conda-forge | (main, May 27 2022, 17:00:52) \n[Clang 13.0.1 ]"
  },
  "orig_nbformat": 4,
  "vscode": {
   "interpreter": {
    "hash": "9a7e77080e188257cc1a13b05fad48f882a01cda02e79cab0e7533d2fa726a6a"
   }
  }
 },
 "nbformat": 4,
 "nbformat_minor": 2
}
