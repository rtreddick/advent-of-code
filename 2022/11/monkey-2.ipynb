{
 "cells": [
  {
   "cell_type": "code",
   "execution_count": 3,
   "metadata": {},
   "outputs": [],
   "source": [
    "from collections import deque\n",
    "from dataclasses import dataclass, field\n",
    "from itertools import islice\n",
    "from functools import reduce\n",
    "from operator import mul\n",
    "from typing import Dict, Callable, Deque\n",
    "\n",
    "from pyprojroot import here"
   ]
  },
  {
   "cell_type": "code",
   "execution_count": 4,
   "metadata": {},
   "outputs": [],
   "source": [
    "@dataclass\n",
    "class Monkey:\n",
    "    items: Deque[int]\n",
    "    inspect: Callable[[int], int]\n",
    "    reduceWorry: Callable[[int], int]\n",
    "    throwPredicate: Callable[[int], bool]\n",
    "    trueMonkey: int\n",
    "    falseMonkey: int\n",
    "    monkeys: 'Monkeys'\n",
    "    itemsInspected = 0\n",
    "\n",
    "    def throw(self, item: int):\n",
    "        item = self.inspect(item)\n",
    "        item = self.reduceWorry(item)\n",
    "        self.itemsInspected += 1\n",
    "        \n",
    "        if self.throwPredicate(item):\n",
    "            self.monkeys.monkeys[self.trueMonkey].receive(item)\n",
    "        else:\n",
    "            self.monkeys.monkeys[self.falseMonkey].receive(item)\n",
    "\n",
    "    def receive(self, item: int):\n",
    "        self.items.append(item)\n",
    "\n",
    "    def takeTurn(self):\n",
    "        while self.items:\n",
    "            self.throw(self.items.popleft())\n",
    "\n",
    "\n",
    "@dataclass\n",
    "class Monkeys:\n",
    "    monkeys: Dict[int, 'Monkey'] = field(default_factory=dict)\n",
    "\n",
    "    def add(self, monkey: Dict[int, Monkey]):\n",
    "        self.monkeys.update(monkey)\n",
    "\n",
    "    def round(self):\n",
    "        for monkey in self.monkeys.values():\n",
    "            monkey.takeTurn()"
   ]
  },
  {
   "cell_type": "code",
   "execution_count": 5,
   "metadata": {},
   "outputs": [],
   "source": [
    "path = here('./11/input-1.txt')\n",
    "with open(path, 'r') as fp:\n",
    "    monkeysDict = {}\n",
    "    monkeyNum = -1\n",
    "    monkeys = Monkeys()\n",
    "    worryFactors = [2, 3, 5, 7, 11, 13, 17, 19]\n",
    "    worryLCM = reduce(mul, worryFactors)\n",
    "\n",
    "    while True:\n",
    "        monkey = [line.strip() for line in islice(fp, 7)]\n",
    "\n",
    "        if monkey:\n",
    "            # items\n",
    "            items = deque([int(char) for char in monkey[1].split(': ')[1].split(', ')])\n",
    "\n",
    "            # inspect\n",
    "            if '*' in monkey[2]:\n",
    "                argStr = monkey[2].split(' * ')[1]\n",
    "                if argStr == 'old':\n",
    "                    inspect = lambda x: x * x\n",
    "                else:\n",
    "                    inspect = (lambda arg: lambda x: x * arg)(int(argStr))\n",
    "            else:\n",
    "                arg = int(monkey[2].split(' + ')[1])\n",
    "                inspect = (lambda arg: lambda x: x + arg)(arg)\n",
    "\n",
    "            # throw predicate\n",
    "            arg = int(monkey[3].split('by ')[1])\n",
    "            throwPredicate = (lambda arg: lambda x: x % arg == 0)(arg)\n",
    "\n",
    "            # true monkey\n",
    "            trueMonkey = int(monkey[4].split('monkey ')[1])\n",
    "\n",
    "            # false monkey\n",
    "            falseMonkey = int(monkey[5].split('monkey ')[1])\n",
    "            \n",
    "            monkeyNum += 1\n",
    "            monkeys.add({\n",
    "                monkeyNum: Monkey(\n",
    "                    items,\n",
    "                    inspect,\n",
    "                    lambda x: x % worryLCM,\n",
    "                    throwPredicate,\n",
    "                    trueMonkey,\n",
    "                    falseMonkey,\n",
    "                    monkeys\n",
    "                )\n",
    "            })\n",
    "        else:\n",
    "            break"
   ]
  },
  {
   "cell_type": "code",
   "execution_count": 6,
   "metadata": {},
   "outputs": [],
   "source": [
    "for _ in range(10000):\n",
    "    monkeys.round()"
   ]
  },
  {
   "cell_type": "code",
   "execution_count": 9,
   "metadata": {},
   "outputs": [
    {
     "data": {
      "text/plain": [
       "25738411485"
      ]
     },
     "execution_count": 9,
     "metadata": {},
     "output_type": "execute_result"
    }
   ],
   "source": [
    "reduce(mul, sorted([monkey.itemsInspected for monkey in monkeys.monkeys.values()], reverse=True)[0:2])"
   ]
  }
 ],
 "metadata": {
  "kernelspec": {
   "display_name": "Python 3.9.13 ('vscode')",
   "language": "python",
   "name": "python3"
  },
  "language_info": {
   "codemirror_mode": {
    "name": "ipython",
    "version": 3
   },
   "file_extension": ".py",
   "mimetype": "text/x-python",
   "name": "python",
   "nbconvert_exporter": "python",
   "pygments_lexer": "ipython3",
   "version": "3.9.13 | packaged by conda-forge | (main, May 27 2022, 17:00:52) \n[Clang 13.0.1 ]"
  },
  "orig_nbformat": 4,
  "vscode": {
   "interpreter": {
    "hash": "9a7e77080e188257cc1a13b05fad48f882a01cda02e79cab0e7533d2fa726a6a"
   }
  }
 },
 "nbformat": 4,
 "nbformat_minor": 2
}
