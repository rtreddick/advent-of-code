{
 "cells": [
  {
   "cell_type": "code",
   "execution_count": 1,
   "metadata": {},
   "outputs": [],
   "source": [
    "from dataclasses import dataclass\n",
    "import re\n",
    "\n",
    "from pyprojroot import here"
   ]
  },
  {
   "cell_type": "code",
   "execution_count": 3,
   "metadata": {},
   "outputs": [],
   "source": [
    "@dataclass\n",
    "class Boulder:\n",
    "    cubes: set[tuple[int, int, int]]\n",
    "\n",
    "    def cubeSurfaceArea(self, cube: tuple[int, int, int]):\n",
    "        x, y, z = cube\n",
    "        adjacentCubes = [(x, y, z - 1),(x, y, z + 1), (x, y - 1, z), (x, y + 1, z),(x - 1, y, z), (x + 1, y, z)]\n",
    "        return sum([cube not in self.cubes for cube in adjacentCubes])\n",
    "\n",
    "    def surfaceArea(self) -> int:\n",
    "        return sum(map(self.cubeSurfaceArea, self.cubes))"
   ]
  },
  {
   "cell_type": "code",
   "execution_count": 6,
   "metadata": {},
   "outputs": [],
   "source": [
    "testPath = here('./18/test.txt')\n",
    "path = here('./18/input.txt')\n",
    "\n",
    "with open(path, 'r') as fp:\n",
    "    lines = fp.readlines()\n",
    "    cubes = set([tuple(int(char) for char in (re.findall('\\d+', line))) for line in lines])\n",
    "    boulder = Boulder(cubes)"
   ]
  },
  {
   "cell_type": "code",
   "execution_count": 7,
   "metadata": {},
   "outputs": [
    {
     "data": {
      "text/plain": [
       "4308"
      ]
     },
     "execution_count": 7,
     "metadata": {},
     "output_type": "execute_result"
    }
   ],
   "source": [
    "boulder.surfaceArea()"
   ]
  }
 ],
 "metadata": {
  "kernelspec": {
   "display_name": "vscode",
   "language": "python",
   "name": "python3"
  },
  "language_info": {
   "codemirror_mode": {
    "name": "ipython",
    "version": 3
   },
   "file_extension": ".py",
   "mimetype": "text/x-python",
   "name": "python",
   "nbconvert_exporter": "python",
   "pygments_lexer": "ipython3",
   "version": "3.9.13"
  },
  "orig_nbformat": 4,
  "vscode": {
   "interpreter": {
    "hash": "9a7e77080e188257cc1a13b05fad48f882a01cda02e79cab0e7533d2fa726a6a"
   }
  }
 },
 "nbformat": 4,
 "nbformat_minor": 2
}
