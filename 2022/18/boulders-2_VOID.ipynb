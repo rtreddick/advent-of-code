{
 "cells": [
  {
   "cell_type": "code",
   "execution_count": 1,
   "metadata": {},
   "outputs": [],
   "source": [
    "from dataclasses import dataclass, field\n",
    "import functools\n",
    "import itertools\n",
    "import re\n",
    "\n",
    "from pyprojroot import here"
   ]
  },
  {
   "cell_type": "code",
   "execution_count": 8,
   "metadata": {},
   "outputs": [],
   "source": [
    "@dataclass\n",
    "class Volume:\n",
    "    cubes: set[tuple[int, int, int]]\n",
    "    grid: set[tuple[int, int, int]] = field(init=False)\n",
    "    maxX: int = field(init=False)\n",
    "    maxY: int = field(init=False)\n",
    "    maxZ: int = field(init=False)\n",
    "\n",
    "    def __post_init__(self):\n",
    "        self.translateToOrigin()\n",
    "        self.maxX = max(x for x, y, z in self.cubes)\n",
    "        self.maxY = max(y for x, y, z in self.cubes)\n",
    "        self.maxZ = max(z for x, y, z in self.cubes)\n",
    "        self.grid = set(itertools.product(range(self.maxX + 1), range(self.maxY + 1), range(self.maxZ + 1)))\n",
    "\n",
    "    def translateToOrigin(self):\n",
    "        minX = min(x for x, y, z in self.cubes)\n",
    "        minY = min(y for x, y, z in self.cubes)\n",
    "        minZ = min(z for x, y, z in self.cubes)\n",
    "        self.cubes = set((x - minX, y - minY, z - minZ) for x, y, z in self.cubes)\n",
    "\n",
    "    def cubeSurfaceArea(self, cube: tuple[int, int, int]):\n",
    "        x, y, z = cube\n",
    "        adjacentCubes = [(x, y, z - 1),(x, y, z + 1), (x, y - 1, z), (x, y + 1, z),(x - 1, y, z), (x + 1, y, z)]\n",
    "        return sum([cube not in self.cubes for cube in adjacentCubes])\n",
    "\n",
    "    def surfaceArea(self) -> int:\n",
    "        return sum(map(self.cubeSurfaceArea, self.cubes))"
   ]
  },
  {
   "cell_type": "code",
   "execution_count": 6,
   "metadata": {},
   "outputs": [],
   "source": [
    "@dataclass\n",
    "class Boulder(Volume):\n",
    "\n",
    "    def findSurroundingAir(self) -> set[tuple[int, int, int]]:\n",
    "        grid = set(itertools.product(range(self.maxX + 1), range(self.maxY + 1), range(self.maxZ + 1)))\n",
    "        surroundingAir = set()\n",
    "\n",
    "        # sort and groupby keys\n",
    "        xyKey = lambda coords: (coords[0], coords[1])\n",
    "        xzKey = lambda coords: (coords[0], coords[2])\n",
    "        yzKey = lambda coords: (coords[1], coords[2])\n",
    "\n",
    "        # groupby xy, air columns along z axis\n",
    "        for key, group in itertools.groupby(sorted(self.cubes, key=xyKey), key=xyKey):\n",
    "            x, y = key\n",
    "            group = list(group)\n",
    "            minZ = min(z for x, y, z in group)\n",
    "            maxZ = max(z for x, y, z in group)\n",
    "            airColumn = set((x, y, z) for z in itertools.chain(range(minZ), range(maxZ + 1, self.maxZ + 1)))\n",
    "            surroundingAir.update(airColumn)\n",
    "\n",
    "        # groupby xz, air columns along y axis\n",
    "        for key, group in itertools.groupby(sorted(self.cubes, key=xzKey), key=xzKey):\n",
    "            x, z = key\n",
    "            group = list(group)\n",
    "            minY = min(y for x, y, z in group)\n",
    "            maxY = max(y for x, y, z in group)\n",
    "            airColumn = set((x, y, z) for y in itertools.chain(range(minY), range(maxY + 1, self.maxY + 1)))\n",
    "            surroundingAir.update(airColumn)\n",
    "\n",
    "        # groupby yz, air columns along x axis\n",
    "        for key, group in itertools.groupby(sorted(self.cubes, key=yzKey), key=yzKey):\n",
    "            y, z = key\n",
    "            group = list(group)\n",
    "            minX = min(x for x, y, z in group)\n",
    "            maxX = max(x for x, y, z in group)\n",
    "            airColumn = set((x, y, z) for x in itertools.chain(range(minX), range(maxX + 1, self.maxX + 1)))\n",
    "            surroundingAir.update(airColumn)\n",
    "\n",
    "        return surroundingAir\n",
    "\n",
    "    def findAirPockets(self) -> Volume:\n",
    "        return Volume(self.grid - self.findSurroundingAir() - self.cubes)"
   ]
  },
  {
   "cell_type": "code",
   "execution_count": 10,
   "metadata": {},
   "outputs": [
    {
     "name": "stdout",
     "output_type": "stream",
     "text": [
      "54\n",
      "13\n"
     ]
    },
    {
     "ename": "ValueError",
     "evalue": "min() arg is an empty sequence",
     "output_type": "error",
     "traceback": [
      "\u001b[0;31m---------------------------------------------------------------------------\u001b[0m",
      "\u001b[0;31mValueError\u001b[0m                                Traceback (most recent call last)",
      "\u001b[1;32m/Users/t574461/code_local/advent-of-code-2022/18/boulders-2.ipynb Cell 4\u001b[0m in \u001b[0;36m<cell line: 11>\u001b[0;34m()\u001b[0m\n\u001b[1;32m      <a href='vscode-notebook-cell:/Users/t574461/code_local/advent-of-code-2022/18/boulders-2.ipynb#W3sZmlsZQ%3D%3D?line=8'>9</a>\u001b[0m \u001b[39mprint\u001b[39m(\u001b[39mlen\u001b[39m(boulder\u001b[39m.\u001b[39mgrid))\n\u001b[1;32m     <a href='vscode-notebook-cell:/Users/t574461/code_local/advent-of-code-2022/18/boulders-2.ipynb#W3sZmlsZQ%3D%3D?line=9'>10</a>\u001b[0m \u001b[39mprint\u001b[39m(\u001b[39mlen\u001b[39m(boulder\u001b[39m.\u001b[39mcubes))\n\u001b[0;32m---> <a href='vscode-notebook-cell:/Users/t574461/code_local/advent-of-code-2022/18/boulders-2.ipynb#W3sZmlsZQ%3D%3D?line=10'>11</a>\u001b[0m \u001b[39mprint\u001b[39m(\u001b[39mlen\u001b[39m(boulder\u001b[39m.\u001b[39;49mfindSurroundingAir()))\n\u001b[1;32m     <a href='vscode-notebook-cell:/Users/t574461/code_local/advent-of-code-2022/18/boulders-2.ipynb#W3sZmlsZQ%3D%3D?line=11'>12</a>\u001b[0m \u001b[39mprint\u001b[39m(\u001b[39mlen\u001b[39m(boulder\u001b[39m.\u001b[39mfindAirPockets()\u001b[39m.\u001b[39mcubes))\n",
      "\u001b[1;32m/Users/t574461/code_local/advent-of-code-2022/18/boulders-2.ipynb Cell 4\u001b[0m in \u001b[0;36mBoulder.findSurroundingAir\u001b[0;34m(self)\u001b[0m\n\u001b[1;32m     <a href='vscode-notebook-cell:/Users/t574461/code_local/advent-of-code-2022/18/boulders-2.ipynb#W3sZmlsZQ%3D%3D?line=23'>24</a>\u001b[0m x, z \u001b[39m=\u001b[39m key\n\u001b[1;32m     <a href='vscode-notebook-cell:/Users/t574461/code_local/advent-of-code-2022/18/boulders-2.ipynb#W3sZmlsZQ%3D%3D?line=24'>25</a>\u001b[0m group \u001b[39m=\u001b[39m \u001b[39mlist\u001b[39m(group)\n\u001b[0;32m---> <a href='vscode-notebook-cell:/Users/t574461/code_local/advent-of-code-2022/18/boulders-2.ipynb#W3sZmlsZQ%3D%3D?line=25'>26</a>\u001b[0m minY \u001b[39m=\u001b[39m \u001b[39mmin\u001b[39;49m(y \u001b[39mfor\u001b[39;49;00m x, y, z \u001b[39min\u001b[39;49;00m group)\n\u001b[1;32m     <a href='vscode-notebook-cell:/Users/t574461/code_local/advent-of-code-2022/18/boulders-2.ipynb#W3sZmlsZQ%3D%3D?line=26'>27</a>\u001b[0m maxY \u001b[39m=\u001b[39m \u001b[39mmax\u001b[39m(y \u001b[39mfor\u001b[39;00m x, y, z \u001b[39min\u001b[39;00m group)\n\u001b[1;32m     <a href='vscode-notebook-cell:/Users/t574461/code_local/advent-of-code-2022/18/boulders-2.ipynb#W3sZmlsZQ%3D%3D?line=27'>28</a>\u001b[0m airColumn \u001b[39m=\u001b[39m \u001b[39mset\u001b[39m((x, y, z) \u001b[39mfor\u001b[39;00m y \u001b[39min\u001b[39;00m itertools\u001b[39m.\u001b[39mchain(\u001b[39mrange\u001b[39m(minY), \u001b[39mrange\u001b[39m(maxY \u001b[39m+\u001b[39m \u001b[39m1\u001b[39m, \u001b[39mself\u001b[39m\u001b[39m.\u001b[39mmaxY \u001b[39m+\u001b[39m \u001b[39m1\u001b[39m)))\n",
      "\u001b[0;31mValueError\u001b[0m: min() arg is an empty sequence"
     ]
    }
   ],
   "source": [
    "testPath = here('./18/test.txt')\n",
    "path = here('./18/input.txt')\n",
    "\n",
    "with open(testPath, 'r') as fp:\n",
    "    lines = fp.readlines()\n",
    "    cubes = set([tuple(int(char) for char in (re.findall('\\d+', line))) for line in lines])\n",
    "    boulder = Boulder(cubes)\n",
    "\n",
    "print(len(boulder.grid))\n",
    "print(len(boulder.cubes))\n",
    "print(len(boulder.findSurroundingAir()))\n",
    "print(len(boulder.findAirPockets().cubes))"
   ]
  },
  {
   "cell_type": "code",
   "execution_count": 28,
   "metadata": {},
   "outputs": [
    {
     "data": {
      "text/plain": [
       "-480"
      ]
     },
     "execution_count": 28,
     "metadata": {},
     "output_type": "execute_result"
    }
   ],
   "source": [
    "gridCubes = set(itertools.product(range(1, 4), range(1, 4), range(1, 4)))\n",
    "boulderCubes = (gridCubes - set(itertools.product((1,3), repeat=3)) - set([(2, 2, 2)]))\n",
    "boulder = Boulder(boulderCubes)\n",
    "airPockets = boulder.findAirPockets()\n",
    "surfaceArea = boulder.surfaceArea() - airPockets.surfaceArea()\n",
    "surfaceArea"
   ]
  },
  {
   "cell_type": "code",
   "execution_count": 12,
   "metadata": {},
   "outputs": [
    {
     "data": {
      "text/plain": [
       "60"
      ]
     },
     "execution_count": 12,
     "metadata": {},
     "output_type": "execute_result"
    }
   ],
   "source": [
    "boulder.surfaceArea()"
   ]
  },
  {
   "cell_type": "code",
   "execution_count": 13,
   "metadata": {},
   "outputs": [
    {
     "data": {
      "text/plain": [
       "6"
      ]
     },
     "execution_count": 13,
     "metadata": {},
     "output_type": "execute_result"
    }
   ],
   "source": [
    "airPockets.surfaceArea()"
   ]
  },
  {
   "cell_type": "code",
   "execution_count": null,
   "metadata": {},
   "outputs": [],
   "source": []
  }
 ],
 "metadata": {
  "kernelspec": {
   "display_name": "vscode",
   "language": "python",
   "name": "python3"
  },
  "language_info": {
   "codemirror_mode": {
    "name": "ipython",
    "version": 3
   },
   "file_extension": ".py",
   "mimetype": "text/x-python",
   "name": "python",
   "nbconvert_exporter": "python",
   "pygments_lexer": "ipython3",
   "version": "3.9.13 | packaged by conda-forge | (main, May 27 2022, 17:00:52) \n[Clang 13.0.1 ]"
  },
  "orig_nbformat": 4,
  "vscode": {
   "interpreter": {
    "hash": "9a7e77080e188257cc1a13b05fad48f882a01cda02e79cab0e7533d2fa726a6a"
   }
  }
 },
 "nbformat": 4,
 "nbformat_minor": 2
}
