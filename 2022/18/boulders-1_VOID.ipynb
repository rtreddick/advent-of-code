{
 "cells": [
  {
   "cell_type": "code",
   "execution_count": 5,
   "metadata": {},
   "outputs": [],
   "source": [
    "from dataclasses import dataclass\n",
    "import re\n",
    "\n",
    "from pyprojroot import here"
   ]
  },
  {
   "cell_type": "code",
   "execution_count": 6,
   "metadata": {},
   "outputs": [],
   "source": [
    "@dataclass\n",
    "class Boulder:\n",
    "    cubes: set[tuple[int, int, int]]\n",
    "\n",
    "    def __post_init__(self):\n",
    "        self.cubes = self.translateToOrigin(self.cubes)\n",
    "\n",
    "    @staticmethod\n",
    "    def translateToOrigin(cubes) -> set[tuple[int, int, int]]:\n",
    "        minX = min(x for x, y, z in cubes)\n",
    "        minY = min(y for x, y, z in cubes)\n",
    "        minZ = min(z for x, y, z in cubes)\n",
    "        return set((x - minX, y - minY, z - minZ) for x, y, z in cubes)\n",
    "\n",
    "    def calculateSurfaceArea(self) -> int:\n",
    "        surfaceArea = 0\n",
    "\n",
    "        for x in range(max(x for x, y, z in self.cubes) + 1):\n",
    "            for y in range(max(y for x, y, z in self.cubes) + 1):\n",
    "                for z in range(max(z for x, y, z in self.cubes) + 1):\n",
    "\n",
    "                    if (x, y, z) in self.cubes:\n",
    "\n",
    "                        if (x, y, z - 1) not in self.cubes:\n",
    "                            surfaceArea += 1\n",
    "                        \n",
    "                        if (x, y, z + 1) not in self.cubes:\n",
    "                            surfaceArea += 1\n",
    "\n",
    "                        if (x, y - 1, z) not in self.cubes:\n",
    "                            surfaceArea += 1\n",
    "\n",
    "                        if (x, y + 1, z) not in self.cubes:\n",
    "                            surfaceArea += 1\n",
    "\n",
    "                        if (x - 1, y, z) not in self.cubes:\n",
    "                            surfaceArea += 1\n",
    "\n",
    "                        if (x + 1, y, z) not in self.cubes:\n",
    "                            surfaceArea += 1\n",
    "\n",
    "        return surfaceArea"
   ]
  },
  {
   "cell_type": "code",
   "execution_count": 7,
   "metadata": {},
   "outputs": [],
   "source": [
    "testPath = here('./18/test.txt')\n",
    "path = here('./18/input.txt')\n",
    "\n",
    "with open(testPath, 'r') as fp:\n",
    "    lines = fp.readlines()\n",
    "    cubes = set([tuple(int(char) for char in (re.findall('\\d+', line))) for line in lines])\n",
    "    boulder = Boulder(cubes)"
   ]
  },
  {
   "cell_type": "code",
   "execution_count": 8,
   "metadata": {},
   "outputs": [
    {
     "data": {
      "text/plain": [
       "64"
      ]
     },
     "execution_count": 8,
     "metadata": {},
     "output_type": "execute_result"
    }
   ],
   "source": [
    "boulder.cubes\n",
    "boulder.calculateSurfaceArea()"
   ]
  },
  {
   "cell_type": "code",
   "execution_count": null,
   "metadata": {},
   "outputs": [],
   "source": []
  }
 ],
 "metadata": {
  "kernelspec": {
   "display_name": "vscode",
   "language": "python",
   "name": "python3"
  },
  "language_info": {
   "codemirror_mode": {
    "name": "ipython",
    "version": 3
   },
   "file_extension": ".py",
   "mimetype": "text/x-python",
   "name": "python",
   "nbconvert_exporter": "python",
   "pygments_lexer": "ipython3",
   "version": "3.9.13 | packaged by conda-forge | (main, May 27 2022, 17:00:52) \n[Clang 13.0.1 ]"
  },
  "orig_nbformat": 4,
  "vscode": {
   "interpreter": {
    "hash": "9a7e77080e188257cc1a13b05fad48f882a01cda02e79cab0e7533d2fa726a6a"
   }
  }
 },
 "nbformat": 4,
 "nbformat_minor": 2
}
