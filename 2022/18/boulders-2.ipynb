{
 "cells": [
  {
   "cell_type": "code",
   "execution_count": 14,
   "metadata": {},
   "outputs": [],
   "source": [
    "from dataclasses import dataclass, field\n",
    "import functools\n",
    "import itertools\n",
    "import re\n",
    "\n",
    "from pyprojroot import here"
   ]
  },
  {
   "cell_type": "code",
   "execution_count": 24,
   "metadata": {},
   "outputs": [],
   "source": [
    "@dataclass\n",
    "class Volume:\n",
    "    cubes: set[tuple[int, int, int]]\n",
    "\n",
    "    def cubeSurfaceArea(self, cube: tuple[int, int, int]):\n",
    "        x, y, z = cube\n",
    "        adjacentCubes = [(x, y, z - 1),(x, y, z + 1), (x, y - 1, z), (x, y + 1, z),(x - 1, y, z), (x + 1, y, z)]\n",
    "        return sum([cube not in self.cubes for cube in adjacentCubes])\n",
    "\n",
    "    def surfaceArea(self) -> int:\n",
    "        return sum(map(self.cubeSurfaceArea, self.cubes))"
   ]
  },
  {
   "cell_type": "code",
   "execution_count": 27,
   "metadata": {},
   "outputs": [],
   "source": [
    "@dataclass\n",
    "class Boulder(Volume):\n",
    "    container: set[tuple[int, int, int]] = field(init=False)\n",
    "\n",
    "    def __post_init__(self):\n",
    "        self.container = set(itertools.product(\n",
    "            range(min(x for x, y, z in self.cubes) - 1, max(x for x, y, z in self.cubes) + 2),\n",
    "            range(min(y for x, y, z in self.cubes) - 1, max(y for x, y, z in self.cubes) + 2),\n",
    "            range(min(z for x, y, z in self.cubes) - 1, max(z for x, y, z in self.cubes) + 2)\n",
    "        ))\n",
    "\n",
    "    def findNegativeSpace(self) -> set[tuple[int, int, int]]:\n",
    "        negativeSpace = set()\n",
    "        stack = [sorted(self.container)[0]]\n",
    "\n",
    "        while stack:\n",
    "            x, y, z = stack.pop()\n",
    "            negativeSpace.add((x, y, z))\n",
    "            adjacentCubes = [(x, y, z - 1),(x, y, z + 1), (x, y - 1, z), (x, y + 1, z),(x - 1, y, z), (x + 1, y, z)]\n",
    "            children = [cube for cube in adjacentCubes if (cube in self.container) and (cube not in negativeSpace) and (cube not in self.cubes)]\n",
    "            stack.extend(children)\n",
    "            \n",
    "        return negativeSpace\n",
    "\n",
    "    def findAirPockets(self) -> Volume:\n",
    "        return Volume(self.container - self.findNegativeSpace() - self.cubes)"
   ]
  },
  {
   "cell_type": "code",
   "execution_count": 39,
   "metadata": {},
   "outputs": [],
   "source": [
    "testPath = here('./18/test.txt')\n",
    "path = here('./18/input.txt')\n",
    "\n",
    "with open(path, 'r') as fp:\n",
    "    lines = fp.readlines()\n",
    "    cubes = set([tuple(int(char) for char in (re.findall('\\d+', line))) for line in lines])\n",
    "    boulder = Boulder(cubes)"
   ]
  },
  {
   "cell_type": "code",
   "execution_count": 40,
   "metadata": {},
   "outputs": [
    {
     "data": {
      "text/plain": [
       "4308"
      ]
     },
     "execution_count": 40,
     "metadata": {},
     "output_type": "execute_result"
    }
   ],
   "source": [
    "boulder.surfaceArea()"
   ]
  },
  {
   "cell_type": "code",
   "execution_count": 41,
   "metadata": {},
   "outputs": [
    {
     "data": {
      "text/plain": [
       "1768"
      ]
     },
     "execution_count": 41,
     "metadata": {},
     "output_type": "execute_result"
    }
   ],
   "source": [
    "boulder.findAirPockets().surfaceArea()"
   ]
  },
  {
   "cell_type": "code",
   "execution_count": 42,
   "metadata": {},
   "outputs": [
    {
     "data": {
      "text/plain": [
       "2540"
      ]
     },
     "execution_count": 42,
     "metadata": {},
     "output_type": "execute_result"
    }
   ],
   "source": [
    "boulder.surfaceArea() - boulder.findAirPockets().surfaceArea()"
   ]
  }
 ],
 "metadata": {
  "kernelspec": {
   "display_name": "vscode",
   "language": "python",
   "name": "python3"
  },
  "language_info": {
   "codemirror_mode": {
    "name": "ipython",
    "version": 3
   },
   "file_extension": ".py",
   "mimetype": "text/x-python",
   "name": "python",
   "nbconvert_exporter": "python",
   "pygments_lexer": "ipython3",
   "version": "3.9.13"
  },
  "orig_nbformat": 4,
  "vscode": {
   "interpreter": {
    "hash": "9a7e77080e188257cc1a13b05fad48f882a01cda02e79cab0e7533d2fa726a6a"
   }
  }
 },
 "nbformat": 4,
 "nbformat_minor": 2
}
